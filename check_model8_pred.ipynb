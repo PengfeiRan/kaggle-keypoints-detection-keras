{
 "cells": [
  {
   "cell_type": "code",
   "execution_count": 1,
   "metadata": {
    "collapsed": false
   },
   "outputs": [
    {
     "name": "stderr",
     "output_type": "stream",
     "text": [
      "Using TensorFlow backend.\n"
     ]
    }
   ],
   "source": [
    "# ライブラリ読み込み\n",
    "import pandas as pd\n",
    "\n",
    "from load_data import load2d\n",
    "from saver import load_arch\n",
    "from plotter import plot_samples"
   ]
  },
  {
   "cell_type": "code",
   "execution_count": 2,
   "metadata": {
    "collapsed": true
   },
   "outputs": [],
   "source": [
    "model_name = 'model8'\n",
    "model_arch = 'model/' + model_name + '-arch-5000.json'\n",
    "model_weights = 'model/' + model_name + '-weights-5000.hdf5'\n",
    "outpath = 'results/' + model_name + '-5000.csv'"
   ]
  },
  {
   "cell_type": "code",
   "execution_count": 3,
   "metadata": {
    "collapsed": true
   },
   "outputs": [],
   "source": [
    "# 定数\n",
    "SPECIALIST_SETTINGS = [\n",
    "    dict(\n",
    "        id='1',\n",
    "        columns=(\n",
    "            'left_eye_center_x', 'left_eye_center_y',\n",
    "            'right_eye_center_x', 'right_eye_center_y',\n",
    "            ),\n",
    "        flip_indices=((0, 2), (1, 3)),\n",
    "        ),\n",
    "\n",
    "    dict(\n",
    "        id='2',\n",
    "        columns=(\n",
    "            'nose_tip_x', 'nose_tip_y',\n",
    "            ),\n",
    "        flip_indices=(),\n",
    "        ),\n",
    "\n",
    "    dict(\n",
    "        id='3',\n",
    "        columns=(\n",
    "            'mouth_left_corner_x', 'mouth_left_corner_y',\n",
    "            'mouth_right_corner_x', 'mouth_right_corner_y',\n",
    "            'mouth_center_top_lip_x', 'mouth_center_top_lip_y',\n",
    "            ),\n",
    "        flip_indices=((0, 2), (1, 3)),\n",
    "        ),\n",
    "\n",
    "    dict(\n",
    "        id='4',\n",
    "        columns=(\n",
    "            'mouth_center_bottom_lip_x',\n",
    "            'mouth_center_bottom_lip_y',\n",
    "            ),\n",
    "        flip_indices=(),\n",
    "        ),\n",
    "\n",
    "    dict(\n",
    "        id='5',\n",
    "        columns=(\n",
    "            'left_eye_inner_corner_x', 'left_eye_inner_corner_y',\n",
    "            'right_eye_inner_corner_x', 'right_eye_inner_corner_y',\n",
    "            'left_eye_outer_corner_x', 'left_eye_outer_corner_y',\n",
    "            'right_eye_outer_corner_x', 'right_eye_outer_corner_y',\n",
    "            ),\n",
    "        flip_indices=((0, 2), (1, 3), (4, 6), (5, 7)),\n",
    "        ),\n",
    "\n",
    "    dict(\n",
    "        id='6',\n",
    "        columns=(\n",
    "            'left_eyebrow_inner_end_x', 'left_eyebrow_inner_end_y',\n",
    "            'right_eyebrow_inner_end_x', 'right_eyebrow_inner_end_y',\n",
    "            'left_eyebrow_outer_end_x', 'left_eyebrow_outer_end_y',\n",
    "            'right_eyebrow_outer_end_x', 'right_eyebrow_outer_end_y',\n",
    "            ),\n",
    "        flip_indices=((0, 2), (1, 3), (4, 6), (5, 7)),\n",
    "        ),\n",
    "    ]"
   ]
  },
  {
   "cell_type": "code",
   "execution_count": 6,
   "metadata": {
    "collapsed": true
   },
   "outputs": [],
   "source": []
  },
  {
   "cell_type": "code",
   "execution_count": 8,
   "metadata": {
    "collapsed": true
   },
   "outputs": [],
   "source": [
    "model = model_from_json(model7.to_json()) # アーキテクチャのみを取り出す\n",
    "model.layers.pop() # 出力層を取り除く\n",
    "model.outputs = [model.layers[-1].output]\n",
    "model.layers[-1].outbound_nodes = []\n",
    "model.add(Dense(len(cols))) # 新しい出力層を追加"
   ]
  },
  {
   "cell_type": "code",
   "execution_count": 9,
   "metadata": {
    "collapsed": true
   },
   "outputs": [],
   "source": [
    "sgd = SGD(lr=start, momentum=momentum, nesterov=nesterov)\n",
    "model.compile(loss=loss_method, optimizer=sgd)\n"
   ]
  },
  {
   "cell_type": "code",
   "execution_count": null,
   "metadata": {
    "collapsed": false
   },
   "outputs": [
    {
     "name": "stdout",
     "output_type": "stream",
     "text": [
      "left_eye_center_x     7039\n",
      "left_eye_center_y     7039\n",
      "right_eye_center_x    7036\n",
      "right_eye_center_y    7036\n",
      "Image                 7049\n",
      "dtype: int64\n",
      "Training model for columns ('left_eye_center_x', 'left_eye_center_y', 'right_eye_center_x', 'right_eye_center_y') for 2 epochs\n",
      "Epoch 1/2\n",
      " 384/5626 [=>............................] - ETA: 271s - loss: 0.0361"
     ]
    }
   ],
   "source": [
    "specialists = OrderedDict()\n",
    "\n",
    "for setting in SPECIALIST_SETTINGS:\n",
    "    # 特定のカラムのデータの取得\n",
    "    cols = setting['columns']\n",
    "    X, y = load2d(cols=cols)\n",
    "    X_train, X_val, y_train, y_val = train_test_split(X, y, test_size=validation_split, random_state=42)\n",
    "    model = load_arch('model/model7-arch-5000.json')\n",
    "    model.layers.pop() # 出力層を取り除く\n",
    "    model.outputs = [model.layers[-1].output]\n",
    "    model.layers[-1].outbound_nodes = []\n",
    "    model.add(Dense(len(cols))) # 新しい出力層を追加\n",
    "\n",
    "    arch_path = 'model/' + model_name + '-' + setting['id'] + '-arch-' + str(nb_epoch) + '.json'\n",
    "    save_arch(model, arch_path) # モデルを保存しておく\n",
    "\n",
    "    # トレーニングの準備\n",
    "    sgd = SGD(lr=start, momentum=momentum, nesterov=nesterov)\n",
    "    model.compile(loss=loss_method, optimizer=sgd)\n",
    "    #plot(model, to_file=\"model_{}.png\".format(cols[0]), show_shapes=True)\n",
    "\n",
    "    flipgen = FlippedImageDataGenerator()\n",
    "    flipgen.flip_indices = setting['flip_indices']\n",
    "    early_stop = EarlyStopping(patience=patience)\n",
    "    learning_rates = np.linspace(start, stop, nb_epoch)\n",
    "    change_lr = LearningRateScheduler(lambda epoch: float(learning_rates[epoch]))\n",
    "    weights_path = 'model/' + model_name + '-' + setting['id'] + '-weights-' + str(nb_epoch) + '.hdf5'\n",
    "    checkpoint_collback = ModelCheckpoint(filepath = weights_path,\n",
    "                                          monitor='val_loss',\n",
    "                                          save_best_only=True,\n",
    "                                          mode='auto')\n",
    "\n",
    "    print(\"Training model for columns {} for {} epochs\".format(cols, nb_epoch))\n",
    "\n",
    "\n",
    "    hist   = model.fit_generator(flipgen.flow(X_train, y_train),\n",
    "                                 samples_per_epoch=X_train.shape[0],\n",
    "                                 nb_epoch=nb_epoch,\n",
    "                                 validation_data=(X_val, y_val),\n",
    "                                 callbacks=[checkpoint_collback, change_lr, early_stop])\n",
    "    save_history(hist, model_name)\n"
   ]
  }
 ],
 "metadata": {
  "kernelspec": {
   "display_name": "Python 3",
   "language": "python",
   "name": "python3"
  },
  "language_info": {
   "codemirror_mode": {
    "name": "ipython",
    "version": 3
   },
   "file_extension": ".py",
   "mimetype": "text/x-python",
   "name": "python",
   "nbconvert_exporter": "python",
   "pygments_lexer": "ipython3",
   "version": "3.5.1"
  }
 },
 "nbformat": 4,
 "nbformat_minor": 1
}
